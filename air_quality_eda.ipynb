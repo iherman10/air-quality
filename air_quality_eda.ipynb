{
 "cells": [
  {
   "cell_type": "markdown",
   "id": "0de41bc0-a64a-42cd-a531-058c3a802ce4",
   "metadata": {},
   "source": [
    "# Introduction"
   ]
  },
  {
   "cell_type": "markdown",
   "id": "0cdc8651-52c1-4034-be20-d5b9174fe122",
   "metadata": {},
   "source": [
    "This notebook presents an exploratory data analysis (EDA) of air quality data, with a focus on the deterioration observed in recent years. As climate change intensifies and forest fires become more frequent, the impact on air quality has become an increasingly personal issue to me. \n",
    "\n",
    "Through data analysis and visualizations, my goal is to demonstrate this decline in air quality, specifically in New York City, and to explore the potential contributing factors behind this trend.\n",
    "\n",
    "Some key questions I have:\n",
    "- How has air quality in NYC changed over time?\n",
    "- What correlations exist between air quality and factors like temperature, seasonal variation, and forest fires?\n",
    "- Is there a significant decline in air quality during the summer months? "
   ]
  },
  {
   "cell_type": "markdown",
   "id": "f0a07588-4af2-4979-90cc-29db805458d4",
   "metadata": {},
   "source": [
    "# Data Collection and Sources"
   ]
  },
  {
   "cell_type": "markdown",
   "id": "85b2f204-4cc5-49b9-a83c-ec8dde28b7d9",
   "metadata": {},
   "source": [
    "For this project, I'll be using the [EPA's Air Quality System (AQS) API](https://aqs.epa.gov/aqsweb/documents/data_api.html#daily) to obtain historical daily air quality data. "
   ]
  },
  {
   "cell_type": "code",
   "execution_count": 1,
   "id": "8c666fdf-1e4c-421f-adbc-21ec73b17189",
   "metadata": {},
   "outputs": [],
   "source": [
    "# Get API key\n",
    "import requests \n",
    "\n",
    "def signup_for_aqs_api_key(email):\n",
    "    url = 'https://aqs.epa.gov/data/api/signup'\n",
    "    \n",
    "    params = {\n",
    "        'email': email\n",
    "    }\n",
    "    \n",
    "    response = requests.post(url, data=params)\n",
    "    \n",
    "    if response.status_code == 200:\n",
    "        print('Signup request sent successfully. Check your email for the API key.')\n",
    "        print('Response:', response.text)\n",
    "    else:\n",
    "        print(f'Failed to sign up. Status code: {response.status_code}')\n",
    "        print('Error message:', response.text)\n",
    "        \n",
    "# signup_for_aqs_api_key('iherman10@gmail.com')"
   ]
  },
  {
   "cell_type": "code",
   "execution_count": 4,
   "id": "9ccd40cd-6031-47df-b49f-d7df41d36dca",
   "metadata": {},
   "outputs": [
    {
     "name": "stdout",
     "output_type": "stream",
     "text": [
      "API key loaded successfully\n"
     ]
    }
   ],
   "source": [
    "# Load API key from .env file \n",
    "import os\n",
    "from dotenv import load_dotenv \n",
    "\n",
    "load_dotenv() \n",
    "_API_KEY = os.getenv('AQS_API_KEY')\n",
    "\n",
    "if _API_KEY:\n",
    "    print('API key loaded successfully')\n",
    "else:\n",
    "    print('API key not found. Check your .env file')"
   ]
  },
  {
   "cell_type": "code",
   "execution_count": 20,
   "id": "ab75ca1f-e8a5-4c0c-8377-ab3bb6439f21",
   "metadata": {},
   "outputs": [],
   "source": [
    "# Function to fetch API lists\n",
    "import json\n",
    "import pandas as pd\n",
    "\n",
    "def fetch_api_list(endpoint, params, overwrite=False):\n",
    "    data_dir = 'lists'\n",
    "    os.makedirs(data_dir, exist_ok=True)\n",
    "    \n",
    "    path = os.path.join(data_dir, f'{endpoint}.json')\n",
    "    \n",
    "    pd.set_option('display.max_columns', None)\n",
    "    pd.set_option('display.width', None)\n",
    "    \n",
    "    if os.path.exists(path) and not overwrite:\n",
    "        with open(path, 'r') as infile:\n",
    "            data = json.load(infile)\n",
    "        df = pd.DataFrame(data)\n",
    "        print(df[['code', 'value_represented']])\n",
    "    else:\n",
    "        url = f'https://aqs.epa.gov/data/api/list/{endpoint}'\n",
    "\n",
    "        response = requests.get(url, params=params)\n",
    "\n",
    "        if response.status_code == 200:\n",
    "            data = response.json()['Data']\n",
    "            with open(path, 'w') as outfile:\n",
    "                json.dump(data, outfile)\n",
    "            df = pd.DataFrame(data)\n",
    "            print(df[['code', 'value_represented']])\n",
    "        else: \n",
    "            print(f'Failed to retrieve parameters. Status code: {response.status_code}')"
   ]
  },
  {
   "cell_type": "code",
   "execution_count": 19,
   "id": "49dd652e-0663-44ef-bb9b-c0c3920670fd",
   "metadata": {},
   "outputs": [
    {
     "name": "stdout",
     "output_type": "stream",
     "text": [
      "                       code                                  value_represented\n",
      "0               AIRNOW MAPS  The parameters represented on AirNow maps (881...\n",
      "1                       ALL                    Select all Parameters Available\n",
      "2            AQI POLLUTANTS                Pollutants that have an AQI Defined\n",
      "3                 CORE_HAPS                         Urban Air Toxic Pollutants\n",
      "4                  CRITERIA                                Criteria Pollutants\n",
      "5                  CSN DART  List of CSN speciation parameters to populate ...\n",
      "6                  FORECAST     Parameters routinely extracted by AirNow (STI)\n",
      "7                      HAPS                           Hazardous Air Pollutants\n",
      "8            IMPROVE CARBON                          IMPROVE Carbon Parameters\n",
      "9        IMPROVE_SPECIATION  PM2.5 Speciated Parameters Measured at IMPROVE...\n",
      "10                      MET                          Meteorological Parameters\n",
      "11          NATTS CORE HAPS  The core list of toxics of interest to the NAT...\n",
      "12           NATTS REQUIRED  Required compounds to be collected in the Nati...\n",
      "13                     PAMS         Photochemical Assessment Monitoring System\n",
      "14                 PAMS_VOC  Volatile Organic Compound subset of the PAMS P...\n",
      "15                PM COARSE                  PM between 2.5 and 10 micrometers\n",
      "16          PM10 SPECIATION                          PM10 Speciated Parameters\n",
      "17        PM2.5 CONT NONREF             PM2.5 Continuous, Nonreference Methods\n",
      "18            PM2.5 MASS/QA                       PM2.5 Mass and QA Parameters\n",
      "19        SCHOOL AIR TOXICS               School Air Toxics Program Parameters\n",
      "20               SPECIATION                         PM2.5 Speciated Parameters\n",
      "21        SPECIATION CARBON                 PM2.5 Speciation Carbon Parameters\n",
      "22  SPECIATION CATION/ANION           PM2.5 Speciation Cation/Anion Parameters\n",
      "23        SPECIATION METALS                  PM2.5 Speciation Metal Parameters\n",
      "24           UATMP CARBONYL      Urban Air Toxics Monitoring Program Carbonyls\n",
      "25                UATMP VOC           Urban Air Toxics Monitoring Program VOCs\n",
      "26                      VOC                         Volatile organic compounds\n"
     ]
    }
   ],
   "source": [
    "# Fetch Parameter Classes (groups of parameters, like criteria or all)\n",
    "\n",
    "params = {\n",
    "    'email': 'iherman10@gmail.com', \n",
    "    'key': _API_KEY\n",
    "}\n",
    "fetch_api_list('classes', params)"
   ]
  },
  {
   "cell_type": "code",
   "execution_count": 21,
   "id": "fc9fcb3c-dde0-4bae-8ad9-e85ffffa08a9",
   "metadata": {},
   "outputs": [
    {
     "name": "stdout",
     "output_type": "stream",
     "text": [
      "    code            value_represented\n",
      "0  68101         Sample Flow Rate- CV\n",
      "1  68102                Sample Volume\n",
      "2  68103      Ambient Min Temperature\n",
      "3  68104      Ambient Max Temperature\n",
      "4  68105  Average Ambient Temperature\n",
      "5  68106     Sample Min Baro Pressure\n",
      "6  68107     Sample Max Baro Pressure\n",
      "7  68108     Average Ambient Pressure\n",
      "8  68109          Elapsed Sample Time\n",
      "9  88101     PM2.5 - Local Conditions\n"
     ]
    }
   ],
   "source": [
    "# Fetch Parameters in a class (obtain the list of classes from the List - Parameter Classes service)\n",
    "params = {\n",
    "    'email': 'iherman10@gmail.com', \n",
    "    'key': _API_KEY, \n",
    "    'pc': 'PM2.5 MASS/QA' \n",
    "    # This refers to PM2.5 mass and quality assurance parameters. \n",
    "    # If you're interested in general PM2.5 mass concentration, this is likely the most relevant category. \n",
    "}\n",
    "fetch_api_list('parametersByClass', params)"
   ]
  },
  {
   "cell_type": "code",
   "execution_count": null,
   "id": "5bd13576-9950-4deb-a2c8-87a291099318",
   "metadata": {},
   "outputs": [],
   "source": [
    "# Get data\n",
    "\n",
    "\n",
    "def download_aqi_data(api_key, start_date, end_date, file_name, overwrite=False):\n",
    "    data_dir = 'data/air_quality'\n",
    "    os.makedirs(data_dir, exist_ok=True)\n",
    "    \n",
    "    file_path = os.path.join(data_dir, file_name)\n",
    "    \n",
    "    if os.path.exists(file_path) and not overwrite: \n",
    "        print(f\"File '{file_path}' already exists. Skipping download\")\n",
    "        return \n",
    "    \n",
    "    url = 'https://aqs.epa.gov/data/api/dailyData/byCounty'\n",
    "    \n",
    "    # param: the AQS parameter code for data selection, using proprietary 5 digit codes. \n",
    "        # They may be obtained using the list parameters service. \n",
    "        # Up to 5 parameters may be requested, separated by commas.\n",
    "    \n",
    "    params = {\n",
    "        'email':  'iherman10@gmail.com', \n",
    "        'key': api_key, \n",
    "        'param': \n",
    "        \n",
    "    }\n"
   ]
  },
  {
   "cell_type": "markdown",
   "id": "e16c6a6d-3857-40bd-a17a-fbcc7f8dcd70",
   "metadata": {},
   "source": [
    "# Data Cleaning and Preprocessing"
   ]
  },
  {
   "cell_type": "markdown",
   "id": "5f6104e6-c5cd-48b2-a3ec-c82965844afd",
   "metadata": {},
   "source": [
    "# Exploratory Data Analysis (EDA)"
   ]
  },
  {
   "cell_type": "markdown",
   "id": "da67ca32-15b7-4ce3-8b4b-cf7c56a08aa8",
   "metadata": {},
   "source": [
    "# Seasonal Trends and Anomalies"
   ]
  },
  {
   "cell_type": "markdown",
   "id": "818f83b9-8c6f-4a02-bb62-3bdb34637606",
   "metadata": {},
   "source": [
    "# Impact of Forest Fires and Temperature"
   ]
  },
  {
   "cell_type": "markdown",
   "id": "41ab7d34-484c-42b5-a54f-ea2be8247d13",
   "metadata": {},
   "source": [
    "# Conclusions and Key Insights"
   ]
  },
  {
   "cell_type": "markdown",
   "id": "12ebebfa-3c54-4a1e-b2b9-a44d2839e2cb",
   "metadata": {},
   "source": [
    "# Future Work"
   ]
  },
  {
   "cell_type": "code",
   "execution_count": null,
   "id": "377b41f5-880e-4205-abb9-9c1db9ebda30",
   "metadata": {},
   "outputs": [],
   "source": []
  }
 ],
 "metadata": {
  "kernelspec": {
   "display_name": "Python 3 (ipykernel)",
   "language": "python",
   "name": "python3"
  },
  "language_info": {
   "codemirror_mode": {
    "name": "ipython",
    "version": 3
   },
   "file_extension": ".py",
   "mimetype": "text/x-python",
   "name": "python",
   "nbconvert_exporter": "python",
   "pygments_lexer": "ipython3",
   "version": "3.9.12"
  }
 },
 "nbformat": 4,
 "nbformat_minor": 5
}
