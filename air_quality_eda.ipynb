{
 "cells": [
  {
   "cell_type": "markdown",
   "id": "0de41bc0-a64a-42cd-a531-058c3a802ce4",
   "metadata": {},
   "source": [
    "# Introduction"
   ]
  },
  {
   "cell_type": "markdown",
   "id": "0cdc8651-52c1-4034-be20-d5b9174fe122",
   "metadata": {},
   "source": [
    "This notebook presents an exploratory data analysis (EDA) of air quality data, with a focus on the deterioration observed in recent years. As climate change intensifies and forest fires become more frequent, the impact on air quality has become an increasingly personal issue to me. \n",
    "\n",
    "Through data analysis and visualizations, my goal is to demonstrate this decline in air quality, specifically in New York City, and to explore the potential contributing factors behind this trend.\n",
    "\n",
    "Some key questions I have:\n",
    "- How has air quality in NYC changed over time?\n",
    "- What correlations exist between air quality and factors like temperature, seasonal variation, and forest fires?\n",
    "- Is there a significant decline in air quality during the summer months? "
   ]
  },
  {
   "cell_type": "markdown",
   "id": "f0a07588-4af2-4979-90cc-29db805458d4",
   "metadata": {},
   "source": [
    "# Data Collection and Sources"
   ]
  },
  {
   "cell_type": "markdown",
   "id": "e16c6a6d-3857-40bd-a17a-fbcc7f8dcd70",
   "metadata": {},
   "source": [
    "# Data Cleaning and Preprocessing"
   ]
  },
  {
   "cell_type": "markdown",
   "id": "5f6104e6-c5cd-48b2-a3ec-c82965844afd",
   "metadata": {},
   "source": [
    "# Exploratory Data Analysis (EDA)"
   ]
  },
  {
   "cell_type": "markdown",
   "id": "da67ca32-15b7-4ce3-8b4b-cf7c56a08aa8",
   "metadata": {},
   "source": [
    "# Seasonal Trends and Anomalies"
   ]
  },
  {
   "cell_type": "markdown",
   "id": "818f83b9-8c6f-4a02-bb62-3bdb34637606",
   "metadata": {},
   "source": [
    "# Impact of Forest Fires and Temperature"
   ]
  },
  {
   "cell_type": "markdown",
   "id": "41ab7d34-484c-42b5-a54f-ea2be8247d13",
   "metadata": {},
   "source": [
    "# Conclusions and Key Insights"
   ]
  },
  {
   "cell_type": "markdown",
   "id": "12ebebfa-3c54-4a1e-b2b9-a44d2839e2cb",
   "metadata": {},
   "source": [
    "# Future Work"
   ]
  },
  {
   "cell_type": "code",
   "execution_count": null,
   "id": "377b41f5-880e-4205-abb9-9c1db9ebda30",
   "metadata": {},
   "outputs": [],
   "source": []
  }
 ],
 "metadata": {
  "kernelspec": {
   "display_name": "Python 3 (ipykernel)",
   "language": "python",
   "name": "python3"
  },
  "language_info": {
   "codemirror_mode": {
    "name": "ipython",
    "version": 3
   },
   "file_extension": ".py",
   "mimetype": "text/x-python",
   "name": "python",
   "nbconvert_exporter": "python",
   "pygments_lexer": "ipython3",
   "version": "3.9.12"
  }
 },
 "nbformat": 4,
 "nbformat_minor": 5
}
